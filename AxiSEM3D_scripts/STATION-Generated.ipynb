{
 "cells": [
  {
   "cell_type": "code",
   "execution_count": 1,
   "metadata": {},
   "outputs": [],
   "source": [
    "import numpy as np"
   ]
  },
  {
   "cell_type": "code",
   "execution_count": 8,
   "metadata": {},
   "outputs": [
    {
     "name": "stdout",
     "output_type": "stream",
     "text": [
      "D60       UV       60       60       0        0       \n",
      "D61       UV       61       60       0        0       \n",
      "D62       UV       62       60       0        0       \n",
      "D63       UV       63       60       0        0       \n",
      "D64       UV       64       60       0        0       \n",
      "D65       UV       65       60       0        0       \n",
      "D66       UV       66       60       0        0       \n",
      "D67       UV       67       60       0        0       \n",
      "D68       UV       68       60       0        0       \n",
      "D69       UV       69       60       0        0       \n",
      "D70       UV       70       60       0        0       \n",
      "D71       UV       71       60       0        0       \n",
      "D72       UV       72       60       0        0       \n",
      "D73       UV       73       60       0        0       \n",
      "D74       UV       74       60       0        0       \n",
      "D75       UV       75       60       0        0       \n",
      "D76       UV       76       60       0        0       \n",
      "D77       UV       77       60       0        0       \n",
      "D78       UV       78       60       0        0       \n",
      "D79       UV       79       60       0        0       \n",
      "D80       UV       80       60       0        0       \n",
      "D81       UV       81       60       0        0       \n",
      "D82       UV       82       60       0        0       \n",
      "D83       UV       83       60       0        0       \n",
      "D84       UV       84       60       0        0       \n",
      "D85       UV       85       60       0        0       \n",
      "D86       UV       86       60       0        0       \n",
      "D87       UV       87       60       0        0       \n",
      "D88       UV       88       60       0        0       \n",
      "D89       UV       89       60       0        0       \n",
      "D90       UV       90       60       0        0       \n",
      "D91       UV       91       60       0        0       \n",
      "D92       UV       92       60       0        0       \n",
      "D93       UV       93       60       0        0       \n",
      "D94       UV       94       60       0        0       \n",
      "D95       UV       95       60       0        0       \n",
      "D96       UV       96       60       0        0       \n",
      "D97       UV       97       60       0        0       \n",
      "D98       UV       98       60       0        0       \n",
      "D99       UV       99       60       0        0       \n",
      "D100      UV       100      60       0        0       \n",
      "D101      UV       101      60       0        0       \n",
      "D102      UV       102      60       0        0       \n",
      "D103      UV       103      60       0        0       \n",
      "D104      UV       104      60       0        0       \n",
      "D105      UV       105      60       0        0       \n",
      "D106      UV       106      60       0        0       \n",
      "D107      UV       107      60       0        0       \n",
      "D108      UV       108      60       0        0       \n",
      "D109      UV       109      60       0        0       \n",
      "D110      UV       110      60       0        0       \n",
      "D111      UV       111      60       0        0       \n",
      "D112      UV       112      60       0        0       \n",
      "D113      UV       113      60       0        0       \n",
      "D114      UV       114      60       0        0       \n",
      "D115      UV       115      60       0        0       \n",
      "D116      UV       116      60       0        0       \n",
      "D117      UV       117      60       0        0       \n",
      "D118      UV       118      60       0        0       \n",
      "D119      UV       119      60       0        0       \n",
      "D120      UV       120      60       0        0       \n",
      "D121      UV       121      60       0        0       \n",
      "D122      UV       122      60       0        0       \n",
      "D123      UV       123      60       0        0       \n",
      "D124      UV       124      60       0        0       \n",
      "D125      UV       125      60       0        0       \n",
      "D126      UV       126      60       0        0       \n",
      "D127      UV       127      60       0        0       \n",
      "D128      UV       128      60       0        0       \n",
      "D129      UV       129      60       0        0       \n",
      "D130      UV       130      60       0        0       \n",
      "D131      UV       131      60       0        0       \n",
      "D132      UV       132      60       0        0       \n",
      "D133      UV       133      60       0        0       \n",
      "D134      UV       134      60       0        0       \n",
      "D135      UV       135      60       0        0       \n",
      "D136      UV       136      60       0        0       \n",
      "D137      UV       137      60       0        0       \n",
      "D138      UV       138      60       0        0       \n",
      "D139      UV       139      60       0        0       \n",
      "D140      UV       140      60       0        0       \n"
     ]
    }
   ],
   "source": [
    "for dist in np.arange(60,141):\n",
    "    print('D%-8s %-8s %-8s %-8s %-8s %-8s'  %(dist, 'UV', dist, 60, 0 ,0))"
   ]
  },
  {
   "cell_type": "code",
   "execution_count": null,
   "metadata": {},
   "outputs": [],
   "source": []
  }
 ],
 "metadata": {
  "kernelspec": {
   "display_name": "Python 3",
   "language": "python",
   "name": "python3"
  },
  "language_info": {
   "codemirror_mode": {
    "name": "ipython",
    "version": 3
   },
   "file_extension": ".py",
   "mimetype": "text/x-python",
   "name": "python",
   "nbconvert_exporter": "python",
   "pygments_lexer": "ipython3",
   "version": "3.7.1"
  }
 },
 "nbformat": 4,
 "nbformat_minor": 2
}
